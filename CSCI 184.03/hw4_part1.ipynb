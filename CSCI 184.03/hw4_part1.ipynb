{
 "cells": [
  {
   "cell_type": "markdown",
   "metadata": {},
   "source": [
    "**[replace this text with your name(s) and your ID number(s)]**"
   ]
  },
  {
   "cell_type": "markdown",
   "metadata": {},
   "source": [
    "# Homework 4"
   ]
  },
  {
   "cell_type": "markdown",
   "metadata": {},
   "source": [
    "*Due date:* March 20, 2024 (Wednesday) at 8 PM on CodePost"
   ]
  },
  {
   "cell_type": "markdown",
   "metadata": {},
   "source": [
    "Encrypt-and-MAC? MAC-then-encrypt? Or encrypt-*then*-MAC?\n",
    "Each scheme may have its own merits, but one thing's for sure: [the wrong choice will somehow inevitably lead to doom](https://moxie.org/2011/12/13/the-cryptographic-doom-principle.html).\n",
    "Such is the fate of a well-known local healthcare company FailHealth, which recently suffered from a nasty data breach.\n",
    "It has been reported all over the news that hackers were able to exfiltrate account details of its fifty thousand customers, all because the company was not up-to-date on its security practices.\n",
    "\n",
    "The website, which is hosted at http://hw4.lunchtimeattack.wtf, provides an API that allows its client-side applications to download files by loading URLs such as:\n",
    "\n",
    "```\n",
    "http://hw4.lunchtimeattack.wtf/download?token=b5e6179eb44d634781740a7a61145ec95a4ff967&file_name=hw4_part1.ipynb\n",
    "```\n",
    "\n",
    "To validate the token, the web server parses the full query as:\n",
    "```\n",
    "query_string = token=token_string&rest_of_query_string\n",
    "```\n",
    "and then checks whether\n",
    "```\n",
    "token_string == hex(SHA-1(API_KEY || unquote_to_bytes(rest_of_query_string)))\n",
    "```\n",
    "where `API_KEY` is a 256-bit secret key only known to the server. \n",
    "\n",
    "Unfortunately for this insecure attempt at MAC construction, SHA-1 is vulnerable to length extension attacks.\n",
    "Your task for this homework is to carry out a length extension attack that appends the string `&file_name=hw4_part2.txt` to the above API query and forges a corresponding token that will validate against the server, thus allowing you to download the rest of your homework.\n",
    "Your attack will necessarily need to include some binary garbage in the API string; this is fine, since the server won't notice as long as it's appropriately URL-encoded."
   ]
  },
  {
   "cell_type": "markdown",
   "metadata": {},
   "source": [
    "**Part 1 has 22 points, and Part 2 has 10 points,** thus this homework has 32 points in total.\n",
    "But this will be divided by 30 to get the final percentage. Final percentages are capped at 100%.\n",
    "\n",
    "Please be guided on the policies regarding late submissions, regrading, and collaboration.\n",
    "If any, please direct all your questions and clarifications about this homework in the `#hw4-help` channel on \n",
    "the Discord server."
   ]
  },
  {
   "cell_type": "markdown",
   "metadata": {},
   "source": [
    "## Some reminders"
   ]
  },
  {
   "cell_type": "markdown",
   "metadata": {},
   "source": [
    "You are not allowed to use additional third-party libraries other than those explicitly used here, though libraries within the Python standard library are fair game.\n",
    "\n",
    "Although there are Python libraries that automagically do the length extension attack for you, you are expected for this homework to implement the logic of the attack yourself.\n",
    "\n",
    "**Very important:** When dealing with hash functions, always work with raw bytes, never with encoded strings."
   ]
  },
  {
   "cell_type": "markdown",
   "metadata": {},
   "source": [
    "## Some background"
   ]
  },
  {
   "cell_type": "markdown",
   "metadata": {},
   "source": [
    "In most applications, you should use MACs such as HMAC-SHA256 instead of plain cryptographic hash functions (e.g., MD5, SHA-1, or SHA-256) because hashes fail to match our intuitive security expectations.\n",
    "What we really want is something that behaves like a pseudorandom function, which HMACs seem to approximate and hash functions do not.\n",
    "\n",
    "One difference between hash functions and pseudorandom functions is that many hashes are subject to *length extension*.\n",
    "Many common hash functions use a design called the Merkle–Damgård construction.\n",
    "Each is built around a compression function $h$ and maintains an internal state $t$, which is initialized to a fixed constant.\n",
    "Messages are processed in fixed-size blocks by applying the compression function to the current state and current block to compute an updated internal state, i.e., $t_{i+1} := h(t_i, m_i)$.\n",
    "The result of the final application of the compression function becomes the output of the hash function.\n",
    "\n",
    "A consequence of this design is that if we know the hash of an $n$-block message, we can find the hash of longer messages by applying the compression function for each block $m_{n+1}, m_{n+2}, \\dots$ that we want to add.\n",
    "This process is called length extension, and it can be used to attack many applications of hash functions."
   ]
  },
  {
   "cell_type": "markdown",
   "metadata": {},
   "source": [
    "Length extension attacks can cause serious vulnerabilities when people mistakenly try to construct something like an HMAC by using `H(secret || message)`.\n",
    "In 2009, security researchers found that the API used by the photo-sharing site Flickr suffered from a length-extension vulnerability almost exactly like the one in this homework."
   ]
  },
  {
   "cell_type": "markdown",
   "metadata": {},
   "source": [
    "Here are some additional resources that might help:\n",
    "* https://blog.skullsecurity.org/2012/everything-you-need-to-know-about-hash-length-extension-attacks\n",
    "* Here's the original NIST publication (FIPS 180-4) that defines SHA-1 and other Secure Hash algorithms: https://nvlpubs.nist.gov/nistpubs/FIPS/NIST.FIPS.180-4.pdf\n",
    "* The source code of the FailHealth web server can be found here: https://gist.github.com/alltootechnical/a33723a808bca0106250a22944770fd2"
   ]
  },
  {
   "cell_type": "markdown",
   "metadata": {},
   "source": [
    "## Getting started"
   ]
  },
  {
   "cell_type": "markdown",
   "metadata": {},
   "source": [
    "Here are the libraries and functions we might need for later:"
   ]
  },
  {
   "cell_type": "code",
   "execution_count": 20,
   "metadata": {},
   "outputs": [],
   "source": [
    "from binascii import hexlify, unhexlify\n",
    "import requests"
   ]
  },
  {
   "cell_type": "code",
   "execution_count": 21,
   "metadata": {},
   "outputs": [],
   "source": [
    "from urllib.parse import quote_from_bytes, unquote_to_bytes, urlparse, parse_qs"
   ]
  },
  {
   "cell_type": "markdown",
   "metadata": {},
   "source": [
    "For this homework, we will be using a (pure) Python implementation of the SHA-1 hash function, instead of relying on the built-in `hashlib` library.\n",
    "You can download the `sha1` module in the following link: https://gist.github.com/alltootechnical/f7b4c04f005412d4d7c00c543b925feb.\n",
    "(Once downloaded, place the `sha1.py` file in the same directory as this notebook.)\n",
    "\n",
    "Try to follow along so that you can familiarize yourself with this particular implementation."
   ]
  },
  {
   "cell_type": "markdown",
   "metadata": {},
   "source": [
    "Consider the string `hash functions are super secure`.\n",
    "We can compute its SHA-1 hash by running:"
   ]
  },
  {
   "cell_type": "code",
   "execution_count": 53,
   "metadata": {},
   "outputs": [],
   "source": [
    "from sha1 import SHA1, padding"
   ]
  },
  {
   "cell_type": "code",
   "execution_count": 54,
   "metadata": {},
   "outputs": [],
   "source": [
    "m = b'hash functions are super secure'"
   ]
  },
  {
   "cell_type": "code",
   "execution_count": 55,
   "metadata": {},
   "outputs": [
    {
     "data": {
      "text/plain": [
       "'3d3dc78f186e3815775ffc44104b348d9eb77c5c'"
      ]
     },
     "execution_count": 55,
     "metadata": {},
     "output_type": "execute_result"
    }
   ],
   "source": [
    "sha1 = SHA1()\n",
    "sha1.update(m)\n",
    "sha1.hexdigest()"
   ]
  },
  {
   "cell_type": "markdown",
   "metadata": {},
   "source": [
    "The output should be `3d3dc78f186e3815775ffc44104b348d9eb77c5c`."
   ]
  },
  {
   "cell_type": "markdown",
   "metadata": {},
   "source": [
    "SHA-1 processes messages in 512-bit blocks, so internally, the hash function pads `m` to a multiple of that length.\n",
    "The padding consists of the bit `1`, followed by as many `0` bits as necessary, followed by a 64-bit count of the number of bits in the unpadded message.\n",
    "(If the `1` and the count won't fit in the current block, an additional block is added.) \n",
    "\n",
    "For your convenience, you can use the function `padding(count)` in the `sha1` module to compute the padding that will be added to a `count`-bit message.\n",
    "\n",
    "Even if we didn't know `m`, we could compute the hash of longer messages of the general form `m || padding(len(m)*8) || suffix` by setting the initial internal state of our SHA-1 function to `SHA-1(m)`, instead of the default magic constants, and setting the function's message length counter to the size of `m` plus the padding (a multiple of the block size).\n",
    "\n",
    "To find the padded message length (in bits), guess the length of `m` and run `bits = (len(m) + len(padding(len(m) * 8))) * 8`. If you want that in bytes, just divide by 8."
   ]
  },
  {
   "cell_type": "markdown",
   "metadata": {},
   "source": [
    "## 4-1. Length extension warm-ups [5 pts]"
   ]
  },
  {
   "cell_type": "markdown",
   "metadata": {},
   "source": [
    "The `SHA1` object constructor takes in two optional parameters, `state` which would be used to override the internal state, and `length` that serves as a counter of message bytes that have been processed so far."
   ]
  },
  {
   "cell_type": "markdown",
   "metadata": {},
   "source": [
    "**(a) [2 pts]** Construct a new `SHA1` object, where the initial state is set to the SHA-1 hash of `m`, where `m` is as previously defined, and the message length counter to the size of `m` plus the padding."
   ]
  },
  {
   "cell_type": "code",
   "execution_count": 56,
   "metadata": {},
   "outputs": [
    {
     "name": "stdout",
     "output_type": "stream",
     "text": [
      "<sha1.SHA1 object at 0x000001BF455A4C90>\n"
     ]
    }
   ],
   "source": [
    "sha1 = SHA1()\n",
    "sha1.update(m)\n",
    "init_state=sha1.hexdigest()\n",
    "\n",
    "m_length = len(m) + len(padding(len(m) * 8))\n",
    "new_sha1 = SHA1(state=init_state, length=m_length)\n",
    "print(new_sha1)"
   ]
  },
  {
   "cell_type": "markdown",
   "metadata": {},
   "source": [
    "**(b) [3 pts]** Using the new `SHA1` hash object you just constructed, hash a new message `, unless it is SHA-1`.\n",
    "Afterwards, verify that it equals the SHA-1 hash of `m || padding(len(m)*8) || new_msg`."
   ]
  },
  {
   "cell_type": "code",
   "execution_count": 57,
   "metadata": {},
   "outputs": [],
   "source": [
    "new_msg = b', unless it is SHA-1'"
   ]
  },
  {
   "cell_type": "code",
   "execution_count": 58,
   "metadata": {},
   "outputs": [
    {
     "name": "stdout",
     "output_type": "stream",
     "text": [
      "7939c0d240c9e8fda736706524a6303fd3c5b5ad\n"
     ]
    }
   ],
   "source": [
    "new_sha1.update(new_msg)\n",
    "hash_msg = new_sha1.hexdigest()\n",
    "\n",
    "print(hash_msg)"
   ]
  },
  {
   "cell_type": "code",
   "execution_count": 59,
   "metadata": {},
   "outputs": [
    {
     "name": "stdout",
     "output_type": "stream",
     "text": [
      "7939c0d240c9e8fda736706524a6303fd3c5b5ad\n"
     ]
    }
   ],
   "source": [
    "msg_concat = m + padding(len(m) * 8) + new_msg\n",
    "exp_sha1 = SHA1()\n",
    "exp_sha1.update(msg_concat)\n",
    "exp_msg = exp_sha1.hexdigest()\n",
    "\n",
    "print(exp_msg)"
   ]
  },
  {
   "cell_type": "code",
   "execution_count": 60,
   "metadata": {},
   "outputs": [],
   "source": [
    "assert(hash_msg == exp_msg)"
   ]
  },
  {
   "cell_type": "markdown",
   "metadata": {},
   "source": [
    "Notice that, due to the length-extension property of SHA-1, we didn't need to know the value of `m` to compute the hash of the longer string; all we needed to know was `m`'s length and its SHA-1 hash."
   ]
  },
  {
   "cell_type": "markdown",
   "metadata": {},
   "source": [
    "## 4-2. HTTP responses for bad queries [3 pts]"
   ]
  },
  {
   "cell_type": "markdown",
   "metadata": {},
   "source": [
    "For this item, explore what happens to the server's responses whenever it recieves an ill-formed query.\n",
    "\n",
    "In a separate Markdown cell provided below, describe and briefly explain what happens if:\n",
    "- **(a)** The token is missing from the query string.\n",
    "- **(b)** The file name is missing from the query string.\n",
    "- **(c)** You try to download a file using a token for another file (i.e., the token doesn't correspond to the file you're trying to download)."
   ]
  },
  {
   "cell_type": "markdown",
   "metadata": {},
   "source": [
    "**Answer for 4-2:** \\\n",
    "**(a)** 401 Unauthorized - No Token Provided \\\n",
    "**(b)** 400 Bad Request - No File Name Provided \\\n",
    "**(c)** 401 Unauthorized - Invalid Token"
   ]
  },
  {
   "cell_type": "markdown",
   "metadata": {},
   "source": [
    "## 4-3. Doing the length extension attack [12 pts]"
   ]
  },
  {
   "cell_type": "markdown",
   "metadata": {},
   "source": [
    "Write a function called `len_ext_attack` that, given a valid URL (as an ordinary string, not as a bytestring) in the same for as the one found at the start of the notebook, modifies the URL so that it will download the `hw4_part2.txt` file, then returns the new URL.\n",
    "\n",
    "Use the `quote_from_bytes` function (using `raw_unicode_escape` encoding) to encode non-ASCII data within the URL.\n",
    "\n",
    "*Pro-tip*: To more easily parse a URL, you may use the functions `urlparse` and `parse_qs` from the `urllib.parse` module."
   ]
  },
  {
   "cell_type": "code",
   "execution_count": 12,
   "metadata": {},
   "outputs": [],
   "source": [
    "def len_ext_attack(orig_url):\n",
    "    # to-do"
   ]
  },
  {
   "cell_type": "code",
   "execution_count": 112,
   "metadata": {},
   "outputs": [],
   "source": [
    "url = \"http://hw4.lunchtimeattack.wtf/download?token=b5e6179eb44d634781740a7a61145ec95a4ff967&file_name=hw4_part1.ipynb\""
   ]
  },
  {
   "cell_type": "code",
   "execution_count": 113,
   "metadata": {},
   "outputs": [
    {
     "name": "stdout",
     "output_type": "stream",
     "text": [
      "ParseResult(scheme='http', netloc='hw4.lunchtimeattack.wtf', path='/download', params='', query='token=b5e6179eb44d634781740a7a61145ec95a4ff967&file_name=hw4_part1.ipynb', fragment='')\n"
     ]
    }
   ],
   "source": [
    "parsed_url = urlparse(url)\n",
    "print(parsed_url)"
   ]
  },
  {
   "cell_type": "code",
   "execution_count": 168,
   "metadata": {},
   "outputs": [
    {
     "name": "stdout",
     "output_type": "stream",
     "text": [
      "{'token': ['b5e6179eb44d634781740a7a61145ec95a4ff967'], 'file_name': ['hw4_part1.ipynb']}\n"
     ]
    }
   ],
   "source": [
    "query_params = parse_qs(parsed_url.query)\n",
    "print(query_params)"
   ]
  },
  {
   "cell_type": "code",
   "execution_count": 169,
   "metadata": {},
   "outputs": [],
   "source": [
    "token = query_params.get('token', [''])[0]\n",
    "file_name = query_params.get('file_name', [''])[0]"
   ]
  },
  {
   "cell_type": "code",
   "execution_count": 170,
   "metadata": {},
   "outputs": [],
   "source": [
    "extension = 'file_name=hw4_part2.txt'"
   ]
  },
  {
   "cell_type": "code",
   "execution_count": 182,
   "metadata": {},
   "outputs": [
    {
     "name": "stdout",
     "output_type": "stream",
     "text": [
      "25\n"
     ]
    }
   ],
   "source": [
    "query_length = len(unquote_to_bytes(f'file_name={file_name}'))\n",
    "print(query_length)"
   ]
  },
  {
   "cell_type": "code",
   "execution_count": 183,
   "metadata": {},
   "outputs": [
    {
     "name": "stdout",
     "output_type": "stream",
     "text": [
      "32\n"
     ]
    }
   ],
   "source": [
    "API_length = 256 // 8\n",
    "print(API_length)"
   ]
  },
  {
   "cell_type": "code",
   "execution_count": 184,
   "metadata": {},
   "outputs": [
    {
     "name": "stdout",
     "output_type": "stream",
     "text": [
      "57\n"
     ]
    }
   ],
   "source": [
    "hash_len = query_length + API_length\n",
    "print(hash_len)"
   ]
  },
  {
   "cell_type": "code",
   "execution_count": 185,
   "metadata": {},
   "outputs": [
    {
     "name": "stdout",
     "output_type": "stream",
     "text": [
      "128\n"
     ]
    }
   ],
   "source": [
    "m_len = hash_len + len(padding(hash_len * 8))\n",
    "print(m_len)"
   ]
  },
  {
   "cell_type": "code",
   "execution_count": 186,
   "metadata": {},
   "outputs": [
    {
     "name": "stdout",
     "output_type": "stream",
     "text": [
      "<sha1.SHA1 object at 0x000001BF45C16E90>\n"
     ]
    }
   ],
   "source": [
    "len_sha1 = SHA1(state=token, length=m_len)\n",
    "print(len_sha1)"
   ]
  },
  {
   "cell_type": "code",
   "execution_count": 180,
   "metadata": {},
   "outputs": [
    {
     "name": "stdout",
     "output_type": "stream",
     "text": [
      "8239aa48973820c2ed28d7cece6f257285d7b983\n"
     ]
    }
   ],
   "source": [
    "len_sha1.update(unquote_to_bytes(extension))\n",
    "hash_msg = len_sha1.hexdigest()\n",
    "print(hash_msg)"
   ]
  },
  {
   "cell_type": "code",
   "execution_count": 189,
   "metadata": {},
   "outputs": [
    {
     "name": "stdout",
     "output_type": "stream",
     "text": [
      "http://hw4.lunchtimeattack.wtf/download?token=8239aa48973820c2ed28d7cece6f257285d7b983&file_name=hw4_part1.ipynbb'\\x80\\x00\\x00\\x00\\x00\\x00\\x00\\x00\\x00\\x00\\x00\\x00\\x00\\x00\\x00\\x00\\x00\\x00\\x00\\x00\\x00\\x00\\x00\\x00\\x00\\x00\\x00\\x00\\x00\\x00\\x00\\x00\\x00\\x00\\x00\\x00\\x00\\x00\\x00\\x00\\x00\\x00\\x00\\x00\\x00\\x00\\x00\\x00\\x00\\x00\\x00\\x00\\x00\\x00\\x00\\x00\\x00\\x00\\x00\\x00\\x00\\x00\\x00\\x00\\x00\\x00\\x00\\x00\\x00\\x01\\xc8'file_name=hw4_part2.txt\n"
     ]
    }
   ],
   "source": [
    "new_url=f'http://hw4.lunchtimeattack.wtf/download?token={hash_msg}&file_name={file_name}{padding(hash_len*8)}{extension}'\n",
    "print(new_url)"
   ]
  },
  {
   "cell_type": "markdown",
   "metadata": {},
   "source": [
    "## 4-4. Making sure it's not a fluke... [2 pts]"
   ]
  },
  {
   "cell_type": "markdown",
   "metadata": {},
   "source": [
    "Go to the FailHealth website and pick another valid download link (of your choice, but should be different from `hw4_part1.ipynb`), and carry out a length extension attack to download the `hw4_part2.txt` file using your `len_ext_attack` function.\n",
    "Print out the new URL for this case, and verify that this new URL also works."
   ]
  },
  {
   "cell_type": "code",
   "execution_count": null,
   "metadata": {},
   "outputs": [],
   "source": []
  },
  {
   "cell_type": "markdown",
   "metadata": {
    "tags": []
   },
   "source": [
    "## 4-5. Part 2 [10 pts]"
   ]
  },
  {
   "cell_type": "markdown",
   "metadata": {},
   "source": [
    "Go to the new URL that your function returned to download the `hw4_part2.txt` file.\n",
    "Submit your answers for Part 2 on the same CodePost assignment with the filename `hw4_part2_answers.txt`."
   ]
  },
  {
   "cell_type": "code",
   "execution_count": null,
   "metadata": {},
   "outputs": [],
   "source": []
  }
 ],
 "metadata": {
  "kernelspec": {
   "display_name": "Python 3 (ipykernel)",
   "language": "python",
   "name": "python3"
  },
  "language_info": {
   "codemirror_mode": {
    "name": "ipython",
    "version": 3
   },
   "file_extension": ".py",
   "mimetype": "text/x-python",
   "name": "python",
   "nbconvert_exporter": "python",
   "pygments_lexer": "ipython3",
   "version": "3.11.6"
  }
 },
 "nbformat": 4,
 "nbformat_minor": 4
}
