{
 "cells": [
  {
   "cell_type": "markdown",
   "metadata": {},
   "source": [
    "**Angelo Joaquin B. Alvarez (210295)**"
   ]
  },
  {
   "cell_type": "markdown",
   "metadata": {},
   "source": [
    "# Homework 1"
   ]
  },
  {
   "cell_type": "markdown",
   "metadata": {},
   "source": [
    "*Due date:* February 3, 2024 (Saturday) at 8 PM on CodePost"
   ]
  },
  {
   "cell_type": "markdown",
   "metadata": {},
   "source": [
    "This homework is designed to get you started in implementing some cryptographic algorithms in Python.\n",
    "This should be easy enough for you to do solo, but it doesn't hurt if you want to work with a partner.\n",
    "These exercises are important in the sense that they serve as stepping stones to future attacks, and most likely you'll need your code for these for the final contest.\n",
    "If you can finish this homework on time, then you'll very likely do well in the final contest!\n",
    "\n",
    "Much of classical crypto operates on alphabetic strings (strings only containing letters) while modern \n",
    "crypto deals excusively with binary strings.\n",
    "Despite that crucial difference, we may see some familiar parallels between historical ciphers like \n",
    "Caesar or Vigenère and relatively modern ones like the XOR cipher and the one-time pad."
   ]
  },
  {
   "cell_type": "markdown",
   "metadata": {},
   "source": [
    "This homework has 32 points in total, but will be divided by 30 to get the final percentage. Final percentages are capped at 100%.\n",
    "\n",
    "Please be guided on the policies regarding late submissions, regrading, and collaboration.\n",
    "If any, please direct all your questions and clarifications about this homework in the `#hw1-help` channel on the Discord server."
   ]
  },
  {
   "cell_type": "markdown",
   "metadata": {},
   "source": [
    "## Dealing with binary data in Python"
   ]
  },
  {
   "cell_type": "markdown",
   "metadata": {},
   "source": [
    "Python supports *byte literals* (I just call them \"bytestrings\" for convenience), string-like sequences that are prefixed by `b`."
   ]
  },
  {
   "cell_type": "code",
   "execution_count": 1,
   "metadata": {},
   "outputs": [
    {
     "data": {
      "text/plain": [
       "b'This is a byte literal'"
      ]
     },
     "execution_count": 1,
     "metadata": {},
     "output_type": "execute_result"
    }
   ],
   "source": [
    "b'This is a byte literal'"
   ]
  },
  {
   "cell_type": "code",
   "execution_count": 2,
   "metadata": {},
   "outputs": [
    {
     "data": {
      "text/plain": [
       "'Meanwhile this is a string literal'"
      ]
     },
     "execution_count": 2,
     "metadata": {},
     "output_type": "execute_result"
    }
   ],
   "source": [
    "'Meanwhile this is a string literal'"
   ]
  },
  {
   "cell_type": "markdown",
   "metadata": {},
   "source": [
    "A bytestring is not the same as its string counterpart..."
   ]
  },
  {
   "cell_type": "code",
   "execution_count": 3,
   "metadata": {},
   "outputs": [
    {
     "data": {
      "text/plain": [
       "False"
      ]
     },
     "execution_count": 3,
     "metadata": {},
     "output_type": "execute_result"
    }
   ],
   "source": [
    "'some_string' == b'some_string'"
   ]
  },
  {
   "cell_type": "markdown",
   "metadata": {},
   "source": [
    "...because they have different types."
   ]
  },
  {
   "cell_type": "code",
   "execution_count": 4,
   "metadata": {},
   "outputs": [
    {
     "name": "stdout",
     "output_type": "stream",
     "text": [
      "<class 'str'>\n",
      "<class 'bytes'>\n"
     ]
    }
   ],
   "source": [
    "print(type('some_string'))\n",
    "print(type(b'some_string'))"
   ]
  },
  {
   "cell_type": "markdown",
   "metadata": {},
   "source": [
    "The usual string operations work with bytestrings."
   ]
  },
  {
   "cell_type": "code",
   "execution_count": 5,
   "metadata": {},
   "outputs": [
    {
     "name": "stdout",
     "output_type": "stream",
     "text": [
      "b's is a '\n",
      "32\n"
     ]
    }
   ],
   "source": [
    "test = b'this is a long bytestring'\n",
    "print(test[3:10])   # slicing\n",
    "print(test[4])      # get the 4th byte (returns an int)"
   ]
  },
  {
   "cell_type": "code",
   "execution_count": 6,
   "metadata": {},
   "outputs": [
    {
     "name": "stdout",
     "output_type": "stream",
     "text": [
      "b'this is a long bytestring and anotha one!'\n",
      "b' and anotha one! and anotha one! and anotha one! and anotha one! and anotha one! and anotha one! and anotha one! and anotha one! and anotha one! and anotha one!'\n"
     ]
    }
   ],
   "source": [
    "another = b' and anotha one!'\n",
    "print(test + another)   # concatenating bytestrings\n",
    "print(another * 10)     # n-fold concatenation"
   ]
  },
  {
   "cell_type": "markdown",
   "metadata": {},
   "source": [
    "We can use the following libraries to convert between encodings (hex and Base64)."
   ]
  },
  {
   "cell_type": "code",
   "execution_count": 7,
   "metadata": {},
   "outputs": [],
   "source": [
    "from binascii import hexlify, unhexlify"
   ]
  },
  {
   "cell_type": "code",
   "execution_count": 8,
   "metadata": {},
   "outputs": [],
   "source": [
    "from base64 import b64encode, b64decode"
   ]
  },
  {
   "cell_type": "code",
   "execution_count": 9,
   "metadata": {},
   "outputs": [
    {
     "data": {
      "text/plain": [
       "b'7468697320697320676f6e6e612062652068657820736f6f6e'"
      ]
     },
     "execution_count": 9,
     "metadata": {},
     "output_type": "execute_result"
    }
   ],
   "source": [
    "hexlify(b'this is gonna be hex soon')"
   ]
  },
  {
   "cell_type": "code",
   "execution_count": 10,
   "metadata": {},
   "outputs": [
    {
     "data": {
      "text/plain": [
       "b'this is hex no more'"
      ]
     },
     "execution_count": 10,
     "metadata": {},
     "output_type": "execute_result"
    }
   ],
   "source": [
    "unhexlify(b'7468697320697320686578206e6f206d6f7265')"
   ]
  },
  {
   "cell_type": "code",
   "execution_count": 11,
   "metadata": {},
   "outputs": [
    {
     "data": {
      "text/plain": [
       "b'QmFzZTY0IHRoaXMgdGhpbmch'"
      ]
     },
     "execution_count": 11,
     "metadata": {},
     "output_type": "execute_result"
    }
   ],
   "source": [
    "b64encode(b'Base64 this thing!')"
   ]
  },
  {
   "cell_type": "code",
   "execution_count": 12,
   "metadata": {},
   "outputs": [
    {
     "data": {
      "text/plain": [
       "b'base64 is not encryption!'"
      ]
     },
     "execution_count": 12,
     "metadata": {},
     "output_type": "execute_result"
    }
   ],
   "source": [
    "b64decode(b'YmFzZTY0IGlzIG5vdCBlbmNyeXB0aW9uIQ==')"
   ]
  },
  {
   "cell_type": "markdown",
   "metadata": {},
   "source": [
    "## Some reminders\n",
    "\n",
    "You are not allowed to use additional libraries (even within the Python standard library) other than those explicitly used here, though you may implement additional functions of your own.\n",
    "\n",
    "**Very important:** Always work with raw bytes, never with encoded strings.\n",
    "\n",
    "The following pages from the Python documentation may be helpful:\n",
    "- https://docs.python.org/3/library/stdtypes.html#bytes-objects\n",
    "- https://docs.python.org/3/library/binascii.html\n",
    "- https://docs.python.org/3/library/base64.html"
   ]
  },
  {
   "cell_type": "markdown",
   "metadata": {},
   "source": [
    "## 1-1. Hex to Base64 [2 pts]"
   ]
  },
  {
   "cell_type": "markdown",
   "metadata": {},
   "source": [
    "Write a function called `hex_to_b64` to convert a hex-encoded bytestring into Base64. For example, the string\n",
    "```\n",
    "48656c7021204920676f7420584f52206579657320616e642069742773206b696c6c696e67206d65\n",
    "```\n",
    "should output\n",
    "```\n",
    "SGVscCEgSSBnb3QgWE9SIGV5ZXMgYW5kIGl0J3Mga2lsbGluZyBtZQ==\n",
    "```"
   ]
  },
  {
   "cell_type": "code",
   "execution_count": 13,
   "metadata": {},
   "outputs": [],
   "source": [
    "def hex_to_b64(h):\n",
    "    return b64encode(unhexlify(h))"
   ]
  },
  {
   "cell_type": "code",
   "execution_count": 14,
   "metadata": {},
   "outputs": [],
   "source": [
    "# if your function works properly, no error should appear when running this line\n",
    "assert hex_to_b64(b'48656c7021204920676f7420584f52206579657320616e642069742773206b696c6c696e67206d65') == b'SGVscCEgSSBnb3QgWE9SIGV5ZXMgYW5kIGl0J3Mga2lsbGluZyBtZQ=='"
   ]
  },
  {
   "cell_type": "markdown",
   "metadata": {
    "tags": []
   },
   "source": [
    "## 1-2. XOR'ing two bytestrings [4 pts]"
   ]
  },
  {
   "cell_type": "markdown",
   "metadata": {},
   "source": [
    "Write a function called `xor_bytes` that takes two bytestrings of equal length and outputs their XOR. For example, if I have a bytestring\n",
    "```\n",
    "49207374696c6c206861766520584f522065796573206e6f772077686174\n",
    "```\n",
    "after hex-decoding it, and when I XOR it against\n",
    "```\n",
    "3a4f1e11060209001b04180100302a3e5045141c5345170a040016292955\n",
    "```\n",
    "it should output\n",
    "```\n",
    "736f6d656f6e652073656e642068656c70206d7920657965732061414821\n",
    "```"
   ]
  },
  {
   "cell_type": "code",
   "execution_count": 15,
   "metadata": {},
   "outputs": [],
   "source": [
    "def xor_bytes(a, b):\n",
    "    if len(a) == len(b):\n",
    "        results = []\n",
    "        for i in range(0, len(a)):\n",
    "            results.append(a[i] ^ b[i])\n",
    "        return bytes(results)\n",
    "    else:\n",
    "        print(\"ByteStrings Not Equal\")"
   ]
  },
  {
   "cell_type": "code",
   "execution_count": 16,
   "metadata": {},
   "outputs": [],
   "source": [
    "# if your function works properly, no error should appear when running this line\n",
    "assert hexlify(xor_bytes(unhexlify(b'49207374696c6c206861766520584f522065796573206e6f772077686174'), unhexlify(b'3a4f1e11060209001b04180100302a3e5045141c5345170a040016292955'))) == b'736f6d656f6e652073656e642068656c70206d7920657965732061414821'"
   ]
  },
  {
   "cell_type": "markdown",
   "metadata": {},
   "source": [
    "## 1-3. Single-byte XOR cipher [6 pts]"
   ]
  },
  {
   "cell_type": "markdown",
   "metadata": {},
   "source": [
    "You could say that this is just the Caesar cipher but it works over binary strings instead. Anyways, I have encrypted the hex-encoded bytestring\n",
    "```\n",
    "264f0300190a4f0d06084f1c0a02061f1d06020a1c4f0e010b4f264f0c0e0101001b4f03060a4e\n",
    "```\n",
    "by XOR'ing it against a single character. Find out what key I used, and decrypt the message."
   ]
  },
  {
   "cell_type": "markdown",
   "metadata": {},
   "source": [
    "You can do this by hand (since there are only 256 possible keys to choose from), but don't!\n",
    "**Write code to do this for you.**\n",
    "Have some way of \"scoring\" a piece of English plaintext, like using character frequency.\n",
    "So you can try each possible key and output the one with the best score.\n",
    "\n",
    "Write a function called `try_decrypt_xor` that does just that, i.e., it takes a bytestring and outputs the key and the decrypted message (and optionally the score). And yes, you may implement your own functions as well."
   ]
  },
  {
   "cell_type": "code",
   "execution_count": 17,
   "metadata": {},
   "outputs": [],
   "source": [
    "# taken from http://pi.math.cornell.edu/~mec/2003-2004/cryptography/subs/frequencies.html\n",
    "# feel free to use this!\n",
    "FREQ_TABLE = {'e': 12.02, 't': 9.10, 'a': 8.12, 'o': 7.68, 'i': 7.31, 'n': 6.95, \n",
    "              's': 6.28, 'r': 6.02, 'h': 5.92, 'd': 4.32, 'l': 3.98, 'u': 2.88, \n",
    "              'c': 2.71, 'm': 2.61, 'f': 2.30, 'y': 2.11, 'w': 2.09, 'g': 2.03, \n",
    "              'p': 1.82, 'b': 1.49, 'v': 1.11, 'k': 0.69, 'x': 0.17, 'q': 0.11, \n",
    "              'j': 0.10, 'z': 0.07, ' ': 19.18}"
   ]
  },
  {
   "cell_type": "code",
   "execution_count": 18,
   "metadata": {},
   "outputs": [],
   "source": [
    "def try_decrypt_xor(c):\n",
    "    unhex_c = unhexlify(c)\n",
    "    best_score = 0\n",
    "    best_key = None\n",
    "    msg = \"\"\n",
    "    for i in range(0, 256):\n",
    "        char = bytes(chr(i), 'latin_1')\n",
    "        key = char * len(unhex_c)\n",
    "        decode = xor_bytes(unhex_c, key)\n",
    "        score = get_score(decode)\n",
    "        if score >= best_score:\n",
    "            best_score = score\n",
    "            best_key = char\n",
    "            msg = decode\n",
    "    return {\"score\": best_score, \"key\": best_key, \"msg\": msg}\n",
    "\n",
    "def create_ftable(txt):\n",
    "    ftable = {}\n",
    "    for i in 'abcdefghijklmnopqrstuvwxyz ':\n",
    "        ftable[i] = 0\n",
    "    for letter in txt:\n",
    "        if chr(letter) in ftable:\n",
    "            ftable[chr(letter)] += 1\n",
    "    return ftable\n",
    "\n",
    "def get_score(txt):\n",
    "    score = 0\n",
    "    freq = create_ftable(txt)\n",
    "    for i in txt:\n",
    "        if chr(i) in freq:\n",
    "            score += freq[chr(i)] * FREQ_TABLE[chr(i)]\n",
    "    return score\n"
   ]
  },
  {
   "cell_type": "code",
   "execution_count": 19,
   "metadata": {},
   "outputs": [
    {
     "name": "stdout",
     "output_type": "stream",
     "text": [
      "key: b'o'\n",
      "message: I love big semiprimes and I cannot lie!\n",
      "score: 1454.9299999999998\n"
     ]
    }
   ],
   "source": [
    "decrypt = try_decrypt_xor(b'264f0300190a4f0d06084f1c0a02061f1d06020a1c4f0e010b4f264f0c0e0101001b4f03060a4e')\n",
    "print(f\"key: {decrypt['key']}\\nmessage: {decrypt['msg'].decode('utf-8')}\\nscore: {decrypt['score']}\")"
   ]
  },
  {
   "cell_type": "markdown",
   "metadata": {},
   "source": [
    "## 1-4. Detect single-character XOR [6 pts]"
   ]
  },
  {
   "cell_type": "markdown",
   "metadata": {},
   "source": [
    "I have a [file](https://gist.github.com/alltootechnical/bdb4f9fa751a5039fbbda8cfd5579e60) that contains 420 64-character hex-encoded strings, and **only one** of them has been encrypted by single-character XOR. \n",
    "\n",
    "Find that string.\n",
    "\n",
    "*Hint:* Your code from the previous item should help."
   ]
  },
  {
   "cell_type": "code",
   "execution_count": 20,
   "metadata": {},
   "outputs": [],
   "source": [
    "fin = open('xor_strings.txt', 'rb')"
   ]
  },
  {
   "cell_type": "code",
   "execution_count": 21,
   "metadata": {},
   "outputs": [],
   "source": [
    "strings = fin.readlines()"
   ]
  },
  {
   "cell_type": "code",
   "execution_count": 22,
   "metadata": {},
   "outputs": [
    {
     "name": "stdout",
     "output_type": "stream",
     "text": [
      "line: b'13d75f630f040788420340322e0437091ea01f6cc54592f3ff63937d0292a816\\n'\n",
      "msg: I found the hay in a needlestack\n",
      "key: b'?'\n",
      "score: 1131.73\n"
     ]
    }
   ],
   "source": [
    "best_dec = {'score': 0, 'key': \"\", 'msg': \"\"}\n",
    "for i in strings:\n",
    "    dec = try_decrypt_xor(i[:-1])\n",
    "    if dec['score'] >= best_dec['score']:\n",
    "        best_dec = dec\n",
    "        line = i\n",
    "print(f\"line: {i}\\nmsg: {best_dec['msg'].decode('utf-8')}\\nkey: {best_dec['key']}\\nscore: {best_dec['score']}\")"
   ]
  },
  {
   "cell_type": "markdown",
   "metadata": {},
   "source": [
    "## 1-5. Implement repeating-key XOR [4 pts]"
   ]
  },
  {
   "cell_type": "markdown",
   "metadata": {},
   "source": [
    "Here are the first two lines of what people consider one of [Frank's greatest hits](https://youtu.be/ntULIFnj7MY):\n",
    "```\n",
    "Shawty had them apple bottom jeans,\n",
    "The boots with the fur\n",
    "```\n",
    "Encrypt it using repeating-key XOR, with the key \"`LOW`\"."
   ]
  },
  {
   "cell_type": "markdown",
   "metadata": {},
   "source": [
    "The way repeating-key XOR works is that the first byte of plaintext will be XOR'd against `L`, the next `O`, the next `W`, then `L` again for the 4th byte, and so on. In effect, it will look something like this:\n",
    "```\n",
    "Plaintext:   S h a w t y   h a d   t ...\n",
    "Key:         L O W L O W L O W L O W ...\n",
    "```\n",
    "If this reminds you of the Vigenère cipher, you're absolutely right! This *is* just Vigenère, but we're working over binary strings instead."
   ]
  },
  {
   "cell_type": "markdown",
   "metadata": {},
   "source": [
    "Write a function called `xor_repeating` that takes two bytestrings corresponding to the plaintext and the key, and encrypts it using repeating-key XOR. Using the plaintext and key above, your function should output:\n",
    "```\n",
    "1f27363b3b2e6c2736286f23242a3a6c2e273c23326c2d38383b38216f\n",
    "3d292e393f635d1827326c2d38233b246c383e3827773827326c29223e\n",
    "```\n",
    "when hex-encoded. (Note that this is a single hex string; it's only split into two lines to make it fit.)"
   ]
  },
  {
   "cell_type": "code",
   "execution_count": 23,
   "metadata": {},
   "outputs": [],
   "source": [
    "def xor_repeating(m, key):\n",
    "    full_key = (key*((len(m)//len(key)))*2)[:len(m)]\n",
    "    return xor_bytes(m, full_key)"
   ]
  },
  {
   "cell_type": "code",
   "execution_count": 24,
   "metadata": {},
   "outputs": [
    {
     "data": {
      "text/plain": [
       "b'1f27363b3b2e6c2736286f23242a3a6c2e273c23326c2d38383b38216f3d292e393f635d1827326c2d38233b246c383e3827773827326c29223e'"
      ]
     },
     "execution_count": 24,
     "metadata": {},
     "output_type": "execute_result"
    }
   ],
   "source": [
    "hexlify(xor_repeating(b'Shawty had them apple bottom jeans,\\nThe boots with the fur', b'LOW'))"
   ]
  },
  {
   "cell_type": "code",
   "execution_count": 25,
   "metadata": {},
   "outputs": [],
   "source": [
    "# if your function works properly, no error should appear when running this line\n",
    "assert hexlify(xor_repeating(b'Shawty had them apple bottom jeans,\\nThe boots with the fur', b'LOW')) == b'1f27363b3b2e6c2736286f23242a3a6c2e273c23326c2d38383b38216f3d292e393f635d1827326c2d38233b246c383e3827773827326c29223e'"
   ]
  },
  {
   "cell_type": "markdown",
   "metadata": {},
   "source": [
    "## 1-6. Break repeating-key XOR [10 pts]"
   ]
  },
  {
   "cell_type": "markdown",
   "metadata": {},
   "source": [
    "I have [another file here](https://gist.github.com/alltootechnical/269eccf1b4d2f5e1512e248452e4ddc2).\n",
    "It has been Base64-encoded after being encrypted with repeating-key XOR.\n",
    "\n",
    "Decrypt it."
   ]
  },
  {
   "cell_type": "markdown",
   "metadata": {},
   "source": [
    "Here's how:\n",
    "\n",
    "1. Let $n$ be the guessed key length. Try values from $n = 2$ up to $n = 40$.\n",
    "\n",
    "2. Write a function called `hamming_dist` that computes the [Hamming distance](https://en.wikipedia.org/wiki/Hamming_distance) between two bytestrings of equal length.\n",
    "The Hamming distance is just the number of differing bits.\n",
    "For example, the Hamming distance between `twelve plus one` and `ElEveN pLUs twO` is $30$. **Please make sure your function works correctly first before proceeding.**\n",
    "\n",
    "3. For each $n$, take the first $n$ bytes and the second $n$ bytes, and find the Hamming distance between them. \n",
    "Divide the result by $n$ to normalize it.\n",
    "\n",
    "4. The $n$ with the smallest normalized Hamming distance is *probably* the key. But just to make sure, you could proceed with the smallest 2 or 3 values of $n$, or you could take 4 blocks of $n$ instead of 2 and average their distances.\n",
    "\n",
    "5. Now that you probably know $n$, split the ciphertext into blocks of length $n$.\n",
    "\n",
    "6. Now transpose the blocks: make a block that is the first byte of every block, and a block that is the second byte of every block, and so on. For example, suppose we have the ciphertext split into blocks of length 5:\n",
    "```\n",
    "QWERT YUIOP ASDFG HJKLZ\n",
    "```\n",
    "then transposing these blocks will yield five blocks of length 4:\n",
    "```\n",
    "QYAH WUSJ EIDK ROFL TPGZ\n",
    "```\n",
    "\n",
    "7. Solve each block as if it was single-character XOR. You have code to do this, so go use that.\n",
    "\n",
    "8. For each block, the single-byte XOR key that has the best score is the repeating-key XOR key byte for that block. All you need to do is to put them together and you have the key!\n",
    "\n",
    "As before, you may implement additional functions of your own."
   ]
  },
  {
   "cell_type": "code",
   "execution_count": 26,
   "metadata": {},
   "outputs": [],
   "source": [
    "def hamming_dist(a, b):\n",
    "    dist = 0\n",
    "    for i in list(xor_bytes(a, b)):\n",
    "        dist += bin(i).count('1')\n",
    "    return dist"
   ]
  },
  {
   "cell_type": "code",
   "execution_count": 27,
   "metadata": {},
   "outputs": [],
   "source": [
    "# if your function works properly, no error should appear when running this line\n",
    "assert hamming_dist(b'twelve plus one', b'ElEveN pLUs twO') == 30"
   ]
  },
  {
   "cell_type": "code",
   "execution_count": 28,
   "metadata": {},
   "outputs": [],
   "source": [
    "fin = open('encrypted.txt', 'rb')"
   ]
  },
  {
   "cell_type": "code",
   "execution_count": 29,
   "metadata": {},
   "outputs": [],
   "source": [
    "b64str = fin.read()"
   ]
  },
  {
   "cell_type": "code",
   "execution_count": 30,
   "metadata": {},
   "outputs": [],
   "source": [
    "def decrypt_repeating_xor(cipher):\n",
    "    decode64 = b64decode(cipher)\n",
    "    key_length_lst = guess_key_length(decode64, 14)\n",
    "    key, key_score = find_key(decode64, key_length_lst[:3])\n",
    "    return key, key_score, xor_repeating(decode64, key)"
   ]
  },
  {
   "cell_type": "code",
   "execution_count": 31,
   "metadata": {},
   "outputs": [],
   "source": [
    "def guess_key_length(cipher, b):\n",
    "    ham_dict = {}\n",
    "    blocks = b\n",
    "    for key_length in range(2, 41):\n",
    "        sum_ham = 0\n",
    "        for i in range(0, (key_length*2)*blocks, key_length):\n",
    "            bytes1 = cipher[i:i+key_length]\n",
    "            bytes2 = cipher[i+key_length:i+key_length*2]\n",
    "            sum_ham += hamming_dist(bytes1, bytes2)/key_length\n",
    "        ave_ham = sum_ham/blocks\n",
    "        ham_dict[key_length] = ave_ham\n",
    "    sort_dict = sorted(ham_dict.items(), key = lambda x: x[1])\n",
    "    return [x[0] for x in sort_dict]"
   ]
  },
  {
   "cell_type": "code",
   "execution_count": 32,
   "metadata": {},
   "outputs": [],
   "source": [
    "def find_key(cipher, key_lengths):\n",
    "    best_key_score = 0\n",
    "    best_key = b''\n",
    "    for k in key_lengths:\n",
    "        chunks = []\n",
    "        for x in range(0, len(cipher), k):\n",
    "            chunks.append(cipher[x: x+k])\n",
    "            \n",
    "        transpose = [b'']*k\n",
    "        for i in range(0, len(chunks)):\n",
    "            for j in range(0, len(chunks[i])):\n",
    "                transpose[j] += chunks[i][j:j+1]\n",
    "\n",
    "        temp_key = b''\n",
    "        for i in transpose:\n",
    "            dec = try_decrypt_xor(hexlify(i))\n",
    "            temp_key += dec['key']\n",
    "\n",
    "        key_score = get_score(temp_key)\n",
    "        if key_score >= best_key_score:\n",
    "            best_key_score = key_score\n",
    "            best_key = temp_key\n",
    "        \n",
    "        #print(f\"key length: {k}, key: {temp_key}, score: {key_score}\")\n",
    "    return best_key, best_key_score"
   ]
  },
  {
   "cell_type": "code",
   "execution_count": 33,
   "metadata": {},
   "outputs": [
    {
     "name": "stdout",
     "output_type": "stream",
     "text": [
      "Best key: b'Bigger number, better person'\n",
      "Key Score: 676.3000000000001\n",
      "\n",
      "Message:\n",
      "NARRATOR: Japan is an island by the sea filled with volcanoes and it's...\n",
      "\n",
      "CHORUS: Beautiful!\n",
      "\n",
      "NARRATOR: In the year -1,000,000,000... Japan might not have been here. In the year -40,000 it was here and you could walk to it. And some people walked to it.\n",
      "\n",
      "The year is now -12,000\n",
      "\n",
      "NARRATOR: Then it got warmer, some icebergs melted, it became an island, and now there's lots of trees because it's warmer.\n",
      "\n",
      "The year is now -10,000\n",
      "\n",
      "NARRATOR: So, now there's people on the island and they're basically sort of hanging out in between the mountains eating nuts off trees and using the latest technology. Like stones and bowls.\n",
      "\n",
      "The sound of a doorbell chime. The year is now -500.\n",
      "\n",
      "OUTSIDE WORLD (KOREA): Ding dong.\n",
      "\n",
      "NARRATOR: It's the outside world, and they have technology from the future, like really good metal and crazy rice farms!\n",
      "Now, you can make a lot of rice really, really quickly.\n",
      "That means if you own the farm, you own a lot of food, which is something everybody needs to survive. So, that makes you king.\n",
      "\n",
      "As Japan gets conquered, the year goes from -300 to 243\n",
      "\n",
      "NARRATOR: Rice farming and rice kingdoms spread across the land all the way to here. The most important kingdoms were here, here, here, here, here, here, and here. But, this one was the most most important, ruled by a \"heavenly superperson,\" or emperor for short. Knock knock, get the door, it's religion.\n",
      "\n",
      "The year is now 593.\n",
      "\n",
      "NARRATOR: The new prince wants everyone to try this hot new religion from Baekje.\n",
      "\n",
      "PRINCE SHOTOKU: Please try this religion...\n",
      "\n",
      "NARRATOR: ... he said.\n",
      "\n",
      "JAPANESE: No!\n",
      "\n",
      "NARRATOR: ...said everybody.\n",
      "\n",
      "PRINCE SHOTOKU: Try it...\n",
      "\n",
      "NARRATOR: ... he said.\n",
      "\n",
      "JAPANESE: No...\n",
      "\n",
      "NARRATOR: ... said everybody again, quieter this time.\n",
      "\n",
      "The year is now 604.\n",
      "\n",
      "NARRATOR: And so, the religion was put into place and all the rules that came with it.\n",
      "\n",
      "The year is now 645.\n",
      "\n",
      "NARRATOR: Then, the government was taken over by another clique and they made some reforms like: making the government govern more, and making the government more like China's government, which is a government that governs more.\n",
      "\n",
      "JAPAN: Hi, China.\n",
      "\n",
      "NARRATOR: ... they said.\n",
      "\n",
      "CHINA: Hi, dipshit.\n",
      "\n",
      "NARRATOR: ...said China.\n",
      "\n",
      "JAPAN: Can you call us something else other than dipshit?\n",
      "\n",
      "NARRATOR: ... said Japan.\n",
      "\n",
      "CHINA: Like what?\n",
      "\n",
      "NARRATOR: ... said China.\n",
      "\n",
      "JAPAN: How about sunrise land?\n",
      "\n",
      "NARRATOR: ... said Japan.\n",
      "\n",
      "NARRATOR: And they stole China's alphabet and wrote a book...\n",
      "\n",
      "The year is now 711.\n",
      "\n",
      "NARRATOR: ... about themselves. And then they made lots of poetry and art and another book...\n",
      "\n",
      "The year is now 720.\n",
      "\n",
      "NARRATOR: ... about themselves.\n",
      "\n",
      "As the capital of Japan gets moved, the year goes from 550 to 749.\n",
      "\n",
      "NARRATOR: Then, they stopped moving the capital every time the emperor died, and kept it in one place for a while. Right here. And, they conquered the north, finally.\n",
      "\n",
      "The year is now 802\n",
      "\n",
      "NARRATOR: Get that squared away.\n",
      "\n",
      "The year is now 804\n",
      "\n",
      "NARRATOR: A rich hipster named Kukai is bored with modern Buddhism, visits China, and learns a better version which is more...\n",
      "\n",
      "CHORUS: spiritual!\n",
      "\n",
      "NARRATOR: ... comes back, reinvents the alphabet and causes art and literature to be\n",
      "\n",
      "CHORUS: great!\n",
      "\n",
      "NARRATOR: ... for a long time. And the royal palace turned into such a dream world of art that they really didn't give a shit about running the country. So, if you live outside the palace, how are you supposed to protect your shit from criminals?\n",
      "\n",
      "CHORUS: Hire a samurai.\n",
      "\n",
      "As the samurai fill Japan, the year goes from 1007 to 1042\n",
      "\n",
      "NARRATOR: Everyone started hiring samurai.\n",
      "\n",
      "A correction box pops up\n",
      "\n",
      "NARRATOR: Rich important people hired samurai. Poor people who could not afford to hire samurai did not hire samurai. The samurai became organized and powerful, more powerful than the government. So, they made their own military government here.\n",
      "\n",
      "The year is now 1192\n",
      "\n",
      "NARRATOR: They let the emperor still be \"emperor,\" but the shogun is actually in control.\n",
      "\n",
      "The year is now 1266\n",
      "\n",
      "NARRATOR: Breaking News: The Mongols have invaded China.\n",
      "\n",
      "MONGOLS: We've invaded China...\n",
      "\n",
      "NARRATOR: ...said the Mongols.\n",
      "\n",
      "MONGOLS: Please respect us or else we might invade you as well.\"\n",
      "\n",
      "JAPAN: Okay...\n",
      "\n",
      "The sound of unsheathing swords\n",
      "\n",
      "NARRATOR: ... said Japan.\n",
      "\n",
      "The year is now 1274\n",
      "NARRATOR: So, the Mongols came over ready for war and died in a tornado.\n",
      "The year is now 1281\n",
      "\n",
      "NARRATOR: But, they tried again and had a nice time fighting with the Japanese but then died in a tornado.\n",
      "\n",
      "The year is now 1333\n",
      "\n",
      "NARRATOR: Then the emperor overthrows the shogunate.\n",
      "\n",
      "The year is now 1336\n",
      "\n",
      "NARRATOR: Then the shogunate overthrows him back and moves to Kyoto and makes a new shogunate. And the emperor can still dress like an emperor if he wants; that's fine.\n",
      "\n",
      "CHORUS: Now there's more art!\n",
      "\n",
      "NARRATOR: ... like painting with less colors, collaborative poetry, plays, monkey fun, tea parties, gardening, architecture, flowers.\n",
      "\n",
      "A quick blast of a horn. The year is now 1464.\n",
      "\n",
      "NARRATOR: It's time for \"Who's going to be the next shogun?\" Usually, it's the shogun's kid, but the shogun doesn't have a kid, so he tries to get his brother to quit being a monk and be the next shogun. He says...\n",
      "\n",
      "ASHIKAGA TOSHIMI: Okay\n",
      "\n",
      "NARRATOR: But then the shogun has a kid. So, now who's it gonna be? Vote now on your phones... And everyone voted so hard that the palace caught on fire and burned down.\n",
      "\n",
      "Explosion sound\n",
      "\n",
      "NARRATOR: The shogun actually didn't care. He was off somewhere doing poetry. And the whole country broke to pieces.\n",
      "\n",
      "As Japan breaks, the year goes from 1467 to 1503\n",
      "\n",
      "NARRATOR: Everyone is fighting with each other for local power and it's anybody's game.\n",
      "\n",
      "EUROPE: Knock knock.\n",
      "\n",
      "The sound of someone knocking. As a ship arrives to Japan, the year goes from 1544 to 1561\n",
      "\n",
      "NARRATOR: It's Europe. No, they're not here to take over, they just wanna sell some shit like clocks, and guns, and...\n",
      "\n",
      "CHORUS: Jesus!\n",
      "\n",
      "NARRATOR: So, that's cool, but everyone's still fighting each other for control, now with guns! And wouldn't it be nice to control the capital, which, right now, is puppets with no one controlling them?\n",
      "\n",
      "The year is now 1560.\n",
      "\n",
      "NARRATOR: This clan is ready to make a run for it, but first they have to trample this smaller clan which is in the way. Surprise! The smaller clan wins. And the leader of that clan steals the idea of invading the capital and invades the capital.\n",
      "\n",
      "The year is now 1568.\n",
      "\n",
      "NARRATOR: And it goes very well. He's about halfway through conquering Japan when someone who works for him kills him.\n",
      "\n",
      "The year is now 1582.\n",
      "\n",
      "NARRATOR: And then someone else who works for him kills them.\n",
      "And that guy finishes conquering Japan.\n",
      "\n",
      "The year is now 1590\n",
      "\n",
      "NARRATOR: And then he confiscated everybody's swords and made some rules.\n",
      "\n",
      "NEW SHOGUN: \"And now I'm going to invade Korea, and then hopefully China,\" he said, and failed, and also died.\n",
      "\n",
      "The year is now 1598.\n",
      "\n",
      "NARRATOR: But before he died he told these five guys to take care of his five-year-old son until he's old enough to be the next ruler of Japan. And the five guys said...\n",
      "\n",
      "FIVE GUYS: Yeah, right. It's not gonna be this kid. Its gonna be one of us. 'Cause we're grownups.\n",
      "\n",
      "NARRATOR: And, it's probably gonna be this guy who happens to be way more rich and powerful than the others.\n",
      "\n",
      "An image of Donald Trump is superimposed over the image of the soon-to-be new shogun.\n",
      "\n",
      "NARRATOR: A lot of people support him. But a lot of people support not supporting him.\n",
      "\n",
      "The year is now 1600.\n",
      "\n",
      "NARRATOR: They have a fight and he wins and starts a new government right here:\n",
      "\n",
      "The year is now 1603\n",
      "\n",
      "CHORUS: Edo!\n",
      "\n",
      "NARRATOR: And he still lets the emperor dress like an emperor and have very nice things. But don't get confused. This is the new government, and they are very strict. So strict, they closed the country.\n",
      "\n",
      "The year is now 1639.\n",
      "\n",
      "NARRATOR: No one can leave, and no one can come in, except for the Dutch, if they wanna buy some shit. But they have to do it right here.\n",
      "\n",
      "The year is now 1664.\n",
      "\n",
      "NARRATOR: Now that the entire country was not at war with itself, the population increased a lot. Business increased, schools were built, roads were built, everyone learned to read, books were published, there was poetry, plays, sexy times, puppet shows, and Dutch studies.\n",
      "\n",
      "The year is now 1735.\n",
      "\n",
      "NARRATOR: People started to study European science from books they bought from the Dutch. We're talking geography, skeletons, physics, chemistry, astronomy, and maybe even electricity.\n",
      "\n",
      "As the Economic & Cultural Prosperity decreases, the year goes from 1793 to 1852.\n",
      "\n",
      "NARRATOR: Over time the economic and cultural prosperity began to gradually slow dow-\n",
      "\n",
      "UNITED STATES: Knock knock! It's the United States. With huge boats, with guns. Gunboats.\n",
      "\n",
      "MATTHEW PERRY (UNITED STATES): Open the country. Stop having it be closed.\n",
      "\n",
      "NARRATOR: ... said the United States. There's really nothing they could do. So, they signed a contract that lets the United States, Britain, and Russia visit Japan anytime they want. Choshu and Satsuma hated this.\n",
      "\n",
      "PROVINCES OF CHOSHU & SATSUMA: That sucks!\n",
      "\n",
      "NARRATOR: ... they said.\n",
      "\n",
      "PROVINCES OF CHOSHU & SATSUMA: This sucks!\n",
      "\n",
      "The year is now 1868.\n",
      "\n",
      "NARRATOR: And with almost very little outside help, they overthrew the shogunate, and somehow made the emperor the emperor again, and moved him to Edo, which they renamed \"Eastern capital.\" They made a new government which was a lot more Western. They made a new constitution that was pretty Western. And a military that was... pretty Western. Do you know what else is Western? That's right. It's conquering stuff.\n",
      "\n",
      "JAPAN: So, what can we conquer? Korea!\n",
      "\n",
      "The year is now 1894.\n",
      "\n",
      "NARRATOR: They conquer Korea, taking it from its previous owner, China, and then go a little bit further. And Russia rushes in out of nowhere and says:\n",
      "\n",
      "RUSSIA: Stop, no, you can't take that. We were gonna built a railroad through here to try to get some warm water.\n",
      "\n",
      "The year is now 1899.\n",
      "NARRATOR: And Russia builds their railroad, supervised by a shit-ton of soldiers. And then when the railroad was done, they downgraded to a fuck-ton. Did I say downgrade? I meant upgrade. And Japan says:\n",
      "\n",
      "JAPAN: Can you maybe chill?\n",
      "\n",
      "NARRATOR: And Russia says:\n",
      "\n",
      "RUSSIA: How about maybe you chill?\n",
      "\n",
      "NARRATOR: Japan is kinda scared of Russia. You'll never guess who's also kind of scared of Russia: Great Britain!\n",
      "\n",
      "The year is now 1902.\n",
      "\n",
      "NARRATOR: So, Japan and Great Britain make an alliance together so they can be \"a little less scared of Russia.\"\n",
      "\n",
      "The year is now 1904.\n",
      "\n",
      "NARRATOR: Feeling confident, Japan goes to war against Russia, just for a moment. And then they both get tired and stop.\n",
      "\n",
      "CHORUS: It's time for World War I!\n",
      "\n",
      "The year is now 1914.\n",
      "\n",
      "NARRATOR: The world is about to have a war because it's the 1900s and weapons are getting crazy and all these empires are excited to try them out on each other. Meanwhile, Japan has been enjoying conquering stuff and wants...\n",
      "\n",
      "JAPAN: ... More!\n",
      "\n",
      "NARRATOR: And the next thing on their list is this part of China and lots of tiny islands. All that stuff belongs to Germany, which just had war declared on by Britain because Britain was friends with Belgium, which was being trespassed by Germany in order to get to France to kick France's ass because France was friends with Russia, who was getting ready to kick Austria's ass because Austria was getting ready to kick Serbia's ass because someone from Serbia shot the leader of Austria's ass. (Or, actually, he shot him in the head.) And Britain is currently friends with Japan. So, you know what that means. Duh!\n",
      "\n",
      "CHORUS: Japan should take the islands!\n",
      "\n",
      "NARRATOR: Which is what they wanted to do anyway. So, they called Britain on the \"tele\" to sort of let them know. And then they did it. And they also helped Britain a little here and there with some errands and stuff.\n",
      "\n",
      "A schoolbell rings. The year is now 1919.\n",
      "\n",
      "NARRATOR: Now the war is over. And, congratulations Japan! You technically fought in the war, which means you get to sit at the negotiating table with the big dudes, where they decided who owns what. And yes, Japan gets to keep all that shit they stole from Germany. You also get to join the post-war mega alliance:\n",
      "\n",
      "CHORUS: the League of Nations!\n",
      "\n",
      "NARRATOR: Whose mission statement is to try not to take over the world.\n",
      "\n",
      "The year is now 1929.\n",
      "\n",
      "NARRATOR: The Great Depression is bad, and Japan's economy is now crappy. But the military is doing just fine, and it invades Manchuria.\n",
      "\n",
      "The year is now 1931.\n",
      "\n",
      "NARRATOR: And the League of Nations is like:\n",
      "\n",
      "LEAGUE OF NATIONS: No, don't do that. If you're in the League of Nations, you're not supposed to take over the world!\n",
      "\n",
      "NARRATOR: And Japan said...\n",
      "\n",
      "CHORUS AS JAPAN: ...How 'bout I do anyway?\n",
      "\n",
      "As Japan's territory increases, the year goes from 1937 to 1939.\n",
      "\n",
      "NARRATOR: And Japan invaded more and more and more and more and more of China and was planning to invade the entire east.\n",
      "\n",
      "AOL COMPUTER VOICE: You've got mail.\n",
      "\n",
      "NARRATOR: It's from Germany. The new leader of Germany. He has a cool mustache and is trying to take over the world and needs friends. This also got forwarded to Italy. They all decided to be friends because they had so much in common.\n",
      "\n",
      "CHORUS: It's time for World War II!\n",
      "\n",
      "The year is now 1939.\n",
      "\n",
      "NARRATOR: Germany is invading the neighbors. Then they invade the neighbor's neighbors. Then the neighbor's neighbor's neighbors, who happen to be Britain, said...\n",
      "\n",
      "CHORUS AS BRITAIN: Holy shit!\n",
      "\n",
      "NARRATOR: And, the United States started helping Britain because they're...\n",
      "\n",
      "CHORUS AS UNITED STATES: Good friends!\n",
      "\n",
      "NARRATOR: ... and started not helping Japan because...\n",
      "\n",
      "CHORUS AS UNITED STATES: Their friends and our friends are not friends. Plus, they're planning on invading the entire ocean.\n",
      "\n",
      "NARRATOR: The United States is also working on a large, very huge bomb. Bigger than any other bomb, ever™. Just in case. But they still haven't joined the war. War looks bad on TV, and the United States is really starting to care about their image.\n",
      "\n",
      "The year is now 1941\n",
      "\n",
      "NARRATOR: But then Japan spits on them in Hawaii, and challenges them to war. And they say...\n",
      "\n",
      "UNITED STATES: Yes!\n",
      "\n",
      "NARRATOR: And then Germany, as a symbol of friendship, declares war on the United States, also. So, the United States goes to war in Europe, and they help the gang chase Germany back into Germany, and they also start chasing Japan back into Japan, and they haven't used the bomb yet and are curious to see if it works. So they drop it on Japan.\n",
      "\n",
      "The year is now 1945\n",
      "\n",
      "They actually drop two.\n",
      "\n",
      "NARRATOR: The Unites States installed a new government inspired by the United States government with just the right ingredients for a...\n",
      "\n",
      "CHORUS: post-war economic miracle!\n",
      "\n",
      "The year goes from 1951 to 1980.\n",
      "\n",
      "NARRATOR: And Japan starts making TVs, VCRs, automobiles, and camcorders as fast as they can. And, also better than everybody else.\n",
      "\n",
      "Japan's economy improves from 1960 to 1995.\n",
      "\n",
      "NARRATOR: They get rich and the economy goes wild.\n",
      "\n",
      "Japan's economy decreases after 1995.\n",
      "\n",
      "NARRATOR: And then, the miracle wears off. But everything' still pretty cool, I guess.\n",
      "\n",
      "CHORUS: Bye!\n",
      "\n"
     ]
    }
   ],
   "source": [
    "key, score, msg = decrypt_repeating_xor(b64str)\n",
    "print(f\"Best key: {key}\\nKey Score: {score}\\n\\nMessage:\\n{msg.decode('utf-8')}\")"
   ]
  },
  {
   "cell_type": "code",
   "execution_count": null,
   "metadata": {},
   "outputs": [],
   "source": []
  }
 ],
 "metadata": {
  "kernelspec": {
   "display_name": "Python 3 (ipykernel)",
   "language": "python",
   "name": "python3"
  },
  "language_info": {
   "codemirror_mode": {
    "name": "ipython",
    "version": 3
   },
   "file_extension": ".py",
   "mimetype": "text/x-python",
   "name": "python",
   "nbconvert_exporter": "python",
   "pygments_lexer": "ipython3",
   "version": "3.11.6"
  }
 },
 "nbformat": 4,
 "nbformat_minor": 4
}
